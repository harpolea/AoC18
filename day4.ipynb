{
 "cells": [
  {
   "cell_type": "markdown",
   "metadata": {},
   "source": [
    "# Day 4"
   ]
  },
  {
   "cell_type": "code",
   "execution_count": 1,
   "metadata": {},
   "outputs": [
    {
     "data": {
      "text/plain": [
       "\u001b[32mimport \u001b[39m\u001b[36mscala.collection.mutable.Map\n",
       "\u001b[39m\n",
       "\u001b[32mimport \u001b[39m\u001b[36mscala.util.matching.Regex\n",
       "\u001b[39m\n",
       "\u001b[32mimport \u001b[39m\u001b[36mjava.time.LocalDateTime\n",
       "\u001b[39m\n",
       "\u001b[32mimport \u001b[39m\u001b[36mjava.time.format.DateTimeFormatter\u001b[39m"
      ]
     },
     "execution_count": 1,
     "metadata": {},
     "output_type": "execute_result"
    }
   ],
   "source": [
    "import scala.collection.mutable.Map\n",
    "import scala.util.matching.Regex\n",
    "import java.time.LocalDateTime\n",
    "import java.time.format.DateTimeFormatter"
   ]
  },
  {
   "cell_type": "code",
   "execution_count": 2,
   "metadata": {},
   "outputs": [
    {
     "data": {
      "text/plain": [
       "\u001b[36minput\u001b[39m: \u001b[32mList\u001b[39m[\u001b[32mString\u001b[39m] = \u001b[33mList\u001b[39m(\n",
       "  \u001b[32m\"[1518-11-01 00:00] Guard #10 begins shift\"\u001b[39m,\n",
       "  \u001b[32m\"[1518-11-01 00:05] falls asleep\"\u001b[39m,\n",
       "  \u001b[32m\"[1518-11-01 00:25] wakes up\"\u001b[39m,\n",
       "  \u001b[32m\"[1518-11-01 00:30] falls asleep\"\u001b[39m,\n",
       "  \u001b[32m\"[1518-11-01 00:55] wakes up\"\u001b[39m,\n",
       "  \u001b[32m\"[1518-11-01 23:58] Guard #99 begins shift\"\u001b[39m,\n",
       "  \u001b[32m\"[1518-11-02 00:40] falls asleep\"\u001b[39m,\n",
       "  \u001b[32m\"[1518-11-02 00:50] wakes up\"\u001b[39m,\n",
       "  \u001b[32m\"[1518-11-03 00:05] Guard #10 begins shift\"\u001b[39m,\n",
       "  \u001b[32m\"[1518-11-03 00:24] falls asleep\"\u001b[39m,\n",
       "  \u001b[32m\"[1518-11-03 00:29] wakes up\"\u001b[39m,\n",
       "  \u001b[32m\"[1518-11-04 00:02] Guard #99 begins shift\"\u001b[39m,\n",
       "  \u001b[32m\"[1518-11-04 00:36] falls asleep\"\u001b[39m,\n",
       "  \u001b[32m\"[1518-11-04 00:46] wakes up\"\u001b[39m,\n",
       "  \u001b[32m\"[1518-11-05 00:03] Guard #99 begins shift\"\u001b[39m,\n",
       "  \u001b[32m\"[1518-11-05 00:45] falls asleep\"\u001b[39m,\n",
       "  \u001b[32m\"[1518-11-05 00:55] wakes up\"\u001b[39m\n",
       ")"
      ]
     },
     "execution_count": 2,
     "metadata": {},
     "output_type": "execute_result"
    }
   ],
   "source": [
    "val input = \"\"\"[1518-11-01 00:00] Guard #10 begins shift\n",
    "[1518-11-01 00:05] falls asleep\n",
    "[1518-11-01 00:25] wakes up\n",
    "[1518-11-01 00:30] falls asleep\n",
    "[1518-11-01 00:55] wakes up\n",
    "[1518-11-01 23:58] Guard #99 begins shift\n",
    "[1518-11-02 00:40] falls asleep\n",
    "[1518-11-02 00:50] wakes up\n",
    "[1518-11-03 00:05] Guard #10 begins shift\n",
    "[1518-11-03 00:24] falls asleep\n",
    "[1518-11-03 00:29] wakes up\n",
    "[1518-11-04 00:02] Guard #99 begins shift\n",
    "[1518-11-04 00:36] falls asleep\n",
    "[1518-11-04 00:46] wakes up\n",
    "[1518-11-05 00:03] Guard #99 begins shift\n",
    "[1518-11-05 00:45] falls asleep\n",
    "[1518-11-05 00:55] wakes up\"\"\".split(\"\\n\").toList"
   ]
  },
  {
   "cell_type": "code",
   "execution_count": 3,
   "metadata": {},
   "outputs": [
    {
     "data": {
      "text/plain": [
       "defined \u001b[32mfunction\u001b[39m \u001b[36msortByTime\u001b[39m\n",
       "defined \u001b[32mfunction\u001b[39m \u001b[36msortList\u001b[39m"
      ]
     },
     "execution_count": 3,
     "metadata": {},
     "output_type": "execute_result"
    }
   ],
   "source": [
    "def sortByTime(a:(LocalDateTime, String), b:(LocalDateTime, String)) = {\n",
    "    a._1.isAfter(b._1)\n",
    "}\n",
    "\n",
    "def sortList(times:List[String], \n",
    "             sorted_times:List[(LocalDateTime, String)]=Nil): List[(LocalDateTime, String)] = times match {\n",
    "    case t::ts => {\n",
    "        val pattern:Regex = \"\\\\[([\\\\d\\\\-: ]+)\\\\] ([\\\\w# ]+)\".r\n",
    "        pattern.findFirstMatchIn(t) match {\n",
    "            case Some(x) => {\n",
    "                sortList(ts, (LocalDateTime.parse(x.group(1), DateTimeFormatter.ofPattern(\"yyyy-MM-dd HH:mm\")), \n",
    "                                                x.group(2)) :: sorted_times)\n",
    "            }\n",
    "            case None => println(\"something has gone wrong\"); Nil\n",
    "        \n",
    "        }\n",
    "    }\n",
    "    case Nil => sorted_times.sortWith(sortByTime).reverse\n",
    "}"
   ]
  },
  {
   "cell_type": "code",
   "execution_count": 4,
   "metadata": {},
   "outputs": [
    {
     "data": {
      "text/plain": [
       "defined \u001b[32mfunction\u001b[39m \u001b[36msortBySleep\u001b[39m\n",
       "defined \u001b[32mfunction\u001b[39m \u001b[36mfindSleepyGuard\u001b[39m"
      ]
     },
     "execution_count": 4,
     "metadata": {},
     "output_type": "execute_result"
    }
   ],
   "source": [
    "def sortBySleep(a:(Int, Int), b:(Int, Int)) = {\n",
    "    a._2 > b._2\n",
    "}\n",
    "\n",
    "def findSleepyGuard(times:List[(LocalDateTime, String)], guards:Map[Int, Int]=Map()): Int = times match {\n",
    "    case t::f::w::ts => {\n",
    "//         println(t, f, w)\n",
    "        val pattern:Regex = \"Guard #(\\\\d+)\".r\n",
    "        pattern.findFirstMatchIn(t._2) match {\n",
    "            case Some(x) => {\n",
    "                if (f._2.contains(\"Guard\")) {\n",
    "                    // doesn't fall asleep\n",
    "                    findSleepyGuard(f::w::ts, guards)\n",
    "                } else {\n",
    "                    var id:Int = x.group(1).toInt\n",
    "                    var length_in_minutes:Int = w._1.getMinute - f._1.getMinute\n",
    "                    if (guards.contains(id)) {\n",
    "                        guards(id) += length_in_minutes \n",
    "                    } else {\n",
    "                        guards(id) = length_in_minutes\n",
    "                    }\n",
    "                    if (ts != Nil && ts.head._2 == \"falls asleep\") findSleepyGuard(t::ts, guards) else findSleepyGuard(ts, guards)\n",
    "                }\n",
    "            }\n",
    "            case _ => println(t, f, w); 0\n",
    "        }\n",
    "        \n",
    "    }\n",
    "    case _ => guards.toSeq.sortWith(sortBySleep)(0)._1\n",
    "}"
   ]
  },
  {
   "cell_type": "code",
   "execution_count": 5,
   "metadata": {},
   "outputs": [
    {
     "data": {
      "text/plain": [
       "defined \u001b[32mfunction\u001b[39m \u001b[36mfindSleepiestMinute\u001b[39m"
      ]
     },
     "execution_count": 5,
     "metadata": {},
     "output_type": "execute_result"
    }
   ],
   "source": [
    "def findSleepiestMinute(id:Int, times:List[(LocalDateTime, String)], minutes:Map[Int,Int]=Map()): (Int, Int) = times match {\n",
    "    case t::f::w::ts => {\n",
    "        val pattern:Regex = \"Guard #(\\\\d+)\".r\n",
    "        pattern.findFirstMatchIn(t._2) match {\n",
    "            case Some(x) if (x.group(1).toInt == id) => {\n",
    "                if (f._2.contains(\"Guard\")) {\n",
    "                    // doesn't fall asleep\n",
    "                    findSleepiestMinute(id, f::w::ts, minutes)\n",
    "                } else {\n",
    "                    for (i <- f._1.getMinute until w._1.getMinute) {\n",
    "                        if (minutes.contains(i)) minutes(i) += 1 else minutes(i) = 1\n",
    "                    }\n",
    "                    if (ts != Nil && ts.head._2 == \"falls asleep\") {\n",
    "                        findSleepiestMinute(id, t::ts, minutes) \n",
    "                    } else {\n",
    "                        findSleepiestMinute(id, ts, minutes)\n",
    "                    }\n",
    "                }\n",
    "            }\n",
    "            case _ => {\n",
    "                if (ts != Nil && ts.head._2 == \"falls asleep\") {\n",
    "                    findSleepiestMinute(id, t::ts, minutes) \n",
    "                } else {\n",
    "                    findSleepiestMinute(id, ts, minutes)\n",
    "                }\n",
    "            }\n",
    "        }\n",
    "        \n",
    "    }\n",
    "    case _ => {\n",
    "        if (minutes.size > 0) {\n",
    "            minutes.toSeq.sortWith(sortBySleep)(0)\n",
    "        } else {\n",
    "            (0,0)\n",
    "        }\n",
    "    }\n",
    "}"
   ]
  },
  {
   "cell_type": "code",
   "execution_count": 6,
   "metadata": {},
   "outputs": [
    {
     "data": {
      "text/plain": [
       "\u001b[36msorted_list\u001b[39m: \u001b[32mList\u001b[39m[(\u001b[32mLocalDateTime\u001b[39m, \u001b[32mString\u001b[39m)] = \u001b[33mList\u001b[39m(\n",
       "  (1518-11-01T00:00, \u001b[32m\"Guard #10 begins shift\"\u001b[39m),\n",
       "  (1518-11-01T00:05, \u001b[32m\"falls asleep\"\u001b[39m),\n",
       "  (1518-11-01T00:25, \u001b[32m\"wakes up\"\u001b[39m),\n",
       "  (1518-11-01T00:30, \u001b[32m\"falls asleep\"\u001b[39m),\n",
       "  (1518-11-01T00:55, \u001b[32m\"wakes up\"\u001b[39m),\n",
       "  (1518-11-01T23:58, \u001b[32m\"Guard #99 begins shift\"\u001b[39m),\n",
       "  (1518-11-02T00:40, \u001b[32m\"falls asleep\"\u001b[39m),\n",
       "  (1518-11-02T00:50, \u001b[32m\"wakes up\"\u001b[39m),\n",
       "  (1518-11-03T00:05, \u001b[32m\"Guard #10 begins shift\"\u001b[39m),\n",
       "  (1518-11-03T00:24, \u001b[32m\"falls asleep\"\u001b[39m),\n",
       "  (1518-11-03T00:29, \u001b[32m\"wakes up\"\u001b[39m),\n",
       "  (1518-11-04T00:02, \u001b[32m\"Guard #99 begins shift\"\u001b[39m),\n",
       "  (1518-11-04T00:36, \u001b[32m\"falls asleep\"\u001b[39m),\n",
       "  (1518-11-04T00:46, \u001b[32m\"wakes up\"\u001b[39m),\n",
       "  (1518-11-05T00:03, \u001b[32m\"Guard #99 begins shift\"\u001b[39m),\n",
       "  (1518-11-05T00:45, \u001b[32m\"falls asleep\"\u001b[39m),\n",
       "  (1518-11-05T00:55, \u001b[32m\"wakes up\"\u001b[39m)\n",
       ")"
      ]
     },
     "execution_count": 6,
     "metadata": {},
     "output_type": "execute_result"
    }
   ],
   "source": [
    "var sorted_list = sortList(input)"
   ]
  },
  {
   "cell_type": "code",
   "execution_count": 7,
   "metadata": {},
   "outputs": [
    {
     "data": {
      "text/plain": [
       "\u001b[36mguard\u001b[39m: \u001b[32mInt\u001b[39m = \u001b[32m10\u001b[39m\n",
       "\u001b[36mres6_1\u001b[39m: \u001b[32mInt\u001b[39m = \u001b[32m240\u001b[39m"
      ]
     },
     "execution_count": 7,
     "metadata": {},
     "output_type": "execute_result"
    }
   ],
   "source": [
    "var guard = findSleepyGuard(sorted_list)\n",
    "findSleepiestMinute(guard, sorted_list)._1 * guard"
   ]
  },
  {
   "cell_type": "markdown",
   "metadata": {},
   "source": [
    "## Part 2"
   ]
  },
  {
   "cell_type": "code",
   "execution_count": 8,
   "metadata": {},
   "outputs": [
    {
     "data": {
      "text/plain": [
       "defined \u001b[32mfunction\u001b[39m \u001b[36mfindGuards\u001b[39m"
      ]
     },
     "execution_count": 8,
     "metadata": {},
     "output_type": "execute_result"
    }
   ],
   "source": [
    "def findGuards(times:List[(LocalDateTime, String)], guards:List[Int]=Nil):List[Int] = times match {\n",
    "    case t::ts => {\n",
    "        val pattern:Regex = \"Guard #(\\\\d+)\".r\n",
    "        pattern.findFirstMatchIn(t._2) match {\n",
    "            case Some(x) => {\n",
    "                var id = x.group(1).toInt\n",
    "                if (!guards.contains(id)) findGuards(ts, id::guards) else findGuards(ts, guards)\n",
    "            }\n",
    "            case _ => findGuards(ts, guards)\n",
    "        }\n",
    "        \n",
    "    }\n",
    "    case Nil => guards\n",
    "}"
   ]
  },
  {
   "cell_type": "code",
   "execution_count": 9,
   "metadata": {},
   "outputs": [
    {
     "data": {
      "text/plain": [
       "defined \u001b[32mfunction\u001b[39m \u001b[36msortByFreq\u001b[39m\n",
       "defined \u001b[32mfunction\u001b[39m \u001b[36mfindSleepyMinutes\u001b[39m"
      ]
     },
     "execution_count": 9,
     "metadata": {},
     "output_type": "execute_result"
    }
   ],
   "source": [
    "def sortByFreq(a:(Int,(Int,Int)), b:(Int,(Int,Int))) = {\n",
    "    a._2._2 > b._2._2\n",
    "}\n",
    "\n",
    "def findSleepyMinutes(guards:List[Int], times:List[(LocalDateTime, String)], \n",
    "                      sleepy_minutes:Map[Int,(Int,Int)]=Map()): Int = guards match {\n",
    "    case g::gs => {\n",
    "        val (minute, freq) = findSleepiestMinute(g, times)\n",
    "        if (freq > 0) sleepy_minutes(g) = (minute, freq)\n",
    "        findSleepyMinutes(gs, times, sleepy_minutes)\n",
    "    }\n",
    "    case Nil => {\n",
    "        val t = sleepy_minutes.toSeq.sortWith(sortByFreq)(0)\n",
    "        t._1 * t._2._1\n",
    "    }\n",
    "}"
   ]
  },
  {
   "cell_type": "code",
   "execution_count": 10,
   "metadata": {},
   "outputs": [
    {
     "data": {
      "text/plain": [
       "\u001b[36mguards\u001b[39m: \u001b[32mList\u001b[39m[\u001b[32mInt\u001b[39m] = \u001b[33mList\u001b[39m(\u001b[32m99\u001b[39m, \u001b[32m10\u001b[39m)"
      ]
     },
     "execution_count": 10,
     "metadata": {},
     "output_type": "execute_result"
    }
   ],
   "source": [
    "val guards = findGuards(sorted_list)"
   ]
  },
  {
   "cell_type": "code",
   "execution_count": 11,
   "metadata": {},
   "outputs": [
    {
     "data": {
      "text/plain": [
       "\u001b[36mres10\u001b[39m: \u001b[32mInt\u001b[39m = \u001b[32m4455\u001b[39m"
      ]
     },
     "execution_count": 11,
     "metadata": {},
     "output_type": "execute_result"
    }
   ],
   "source": [
    "findSleepyMinutes(guards, sorted_list)"
   ]
  }
 ],
 "metadata": {
  "kernelspec": {
   "display_name": "Scala",
   "language": "scala",
   "name": "scala"
  },
  "language_info": {
   "codemirror_mode": "text/x-scala",
   "file_extension": ".scala",
   "mimetype": "text/x-scala",
   "name": "scala",
   "nbconvert_exporter": "script",
   "version": "2.12.7"
  }
 },
 "nbformat": 4,
 "nbformat_minor": 2
}
