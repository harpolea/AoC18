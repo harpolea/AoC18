{
 "cells": [
  {
   "cell_type": "markdown",
   "metadata": {},
   "source": [
    "# Day 3"
   ]
  },
  {
   "cell_type": "code",
   "execution_count": 1,
   "metadata": {},
   "outputs": [
    {
     "data": {
      "text/plain": [
       "\u001b[32mimport \u001b[39m\u001b[36mscala.collection.mutable.Map\n",
       "\u001b[39m\n",
       "\u001b[32mimport \u001b[39m\u001b[36mscala.util.matching.Regex\u001b[39m"
      ]
     },
     "execution_count": 1,
     "metadata": {},
     "output_type": "execute_result"
    }
   ],
   "source": [
    "import scala.collection.mutable.Map\n",
    "import scala.util.matching.Regex"
   ]
  },
  {
   "cell_type": "code",
   "execution_count": 2,
   "metadata": {},
   "outputs": [
    {
     "data": {
      "text/plain": [
       "\u001b[36minput\u001b[39m: \u001b[32mList\u001b[39m[\u001b[32mString\u001b[39m] = \u001b[33mList\u001b[39m(\u001b[32m\"#1 @ 1,3: 4x4\"\u001b[39m, \u001b[32m\"#2 @ 3,1: 4x4\"\u001b[39m, \u001b[32m\"#3 @ 5,5: 2x2\"\u001b[39m)"
      ]
     },
     "execution_count": 2,
     "metadata": {},
     "output_type": "execute_result"
    }
   ],
   "source": [
    "val input = \"\"\"#1 @ 1,3: 4x4\n",
    "#2 @ 3,1: 4x4\n",
    "#3 @ 5,5: 2x2\"\"\".split(\"\\n\").toList"
   ]
  },
  {
   "cell_type": "code",
   "execution_count": 3,
   "metadata": {},
   "outputs": [
    {
     "data": {
      "text/plain": [
       "defined \u001b[32mfunction\u001b[39m \u001b[36maddClaim\u001b[39m"
      ]
     },
     "execution_count": 3,
     "metadata": {},
     "output_type": "execute_result"
    }
   ],
   "source": [
    "def addClaim(x:Int, y:Int, w:Int, h:Int, addresses:Map[(Int,Int), Int]) = {\n",
    "    for(i <- x until x+w) {\n",
    "        for(j <- y until y+h) {\n",
    "            var address = (i, j)\n",
    "            if (addresses.contains(address)) addresses(address) += 1 else addresses(address) = 1\n",
    "        }\n",
    "    }\n",
    "}"
   ]
  },
  {
   "cell_type": "code",
   "execution_count": 4,
   "metadata": {},
   "outputs": [
    {
     "data": {
      "text/plain": [
       "defined \u001b[32mfunction\u001b[39m \u001b[36mfindOverlaps\u001b[39m"
      ]
     },
     "execution_count": 4,
     "metadata": {},
     "output_type": "execute_result"
    }
   ],
   "source": [
    "def findOverlaps(claims:List[String], addresses:Map[(Int,Int), Int]=Map()): Int = claims match {\n",
    "    case t::ts => {\n",
    "        val pattern:Regex = \"#\\\\d+ @ (\\\\d+),(\\\\d+): (\\\\d+)x(\\\\d+)\".r\n",
    "        pattern.findFirstMatchIn(t) match {\n",
    "            case Some(x) => {\n",
    "                addClaim(x.group(1).toInt, x.group(2).toInt, x.group(3).toInt, x.group(4).toInt, addresses)\n",
    "                findOverlaps(ts, addresses)\n",
    "            }\n",
    "            case None => println(\"something has gone wrong\"); -1\n",
    "        }\n",
    "    }\n",
    "    case Nil => addresses.values.filter(_ >= 2).size\n",
    "}"
   ]
  },
  {
   "cell_type": "code",
   "execution_count": 5,
   "metadata": {},
   "outputs": [
    {
     "data": {
      "text/plain": [
       "\u001b[36mres4\u001b[39m: \u001b[32mInt\u001b[39m = \u001b[32m4\u001b[39m"
      ]
     },
     "execution_count": 5,
     "metadata": {},
     "output_type": "execute_result"
    }
   ],
   "source": [
    "findOverlaps(input)"
   ]
  },
  {
   "cell_type": "markdown",
   "metadata": {},
   "source": [
    "# Part 2"
   ]
  },
  {
   "cell_type": "code",
   "execution_count": 6,
   "metadata": {},
   "outputs": [
    {
     "data": {
      "text/plain": [
       "defined \u001b[32mfunction\u001b[39m \u001b[36mfindUnOverlapped\u001b[39m"
      ]
     },
     "execution_count": 6,
     "metadata": {},
     "output_type": "execute_result"
    }
   ],
   "source": [
    "// find all the addresses which are only covered by one claim\n",
    "def findUnOverlapped(claims:List[String], addresses:Map[(Int,Int), Int]=Map()): List[(Int,Int)] = claims match {\n",
    "    case t::ts => {\n",
    "        val pattern:Regex = \"#\\\\d+ @ (\\\\d+),(\\\\d+): (\\\\d+)x(\\\\d+)\".r\n",
    "        pattern.findFirstMatchIn(t) match {\n",
    "            case Some(x) => {\n",
    "                addClaim(x.group(1).toInt, x.group(2).toInt, x.group(3).toInt, x.group(4).toInt, addresses)\n",
    "                findUnOverlapped(ts, addresses)\n",
    "            }\n",
    "            case None => println(\"something has gone wrong\"); Nil\n",
    "        }\n",
    "    }\n",
    "    case Nil => addresses.retain((k,v) => v == 1).keys.toList\n",
    "}"
   ]
  },
  {
   "cell_type": "code",
   "execution_count": 7,
   "metadata": {},
   "outputs": [
    {
     "data": {
      "text/plain": [
       "defined \u001b[32mfunction\u001b[39m \u001b[36mcheckClaim\u001b[39m"
      ]
     },
     "execution_count": 7,
     "metadata": {},
     "output_type": "execute_result"
    }
   ],
   "source": [
    "// find the claim which only covers addresses with a single claim\n",
    "def checkClaim(x:Int, y:Int, w:Int, h:Int, addresses:List[(Int,Int)]):Boolean = {\n",
    "    for(i <- x until x+w) {\n",
    "        for(j <- y until y+h) {\n",
    "            var address = (i, j)\n",
    "            if (!addresses.contains(address)) return false\n",
    "        }\n",
    "    }\n",
    "    true\n",
    "}"
   ]
  },
  {
   "cell_type": "code",
   "execution_count": 8,
   "metadata": {},
   "outputs": [
    {
     "data": {
      "text/plain": [
       "defined \u001b[32mfunction\u001b[39m \u001b[36mfindClaim\u001b[39m"
      ]
     },
     "execution_count": 8,
     "metadata": {},
     "output_type": "execute_result"
    }
   ],
   "source": [
    "def findClaim(claims:List[String], addresses:List[(Int,Int)]): Int = claims match {\n",
    "    case t::ts => {\n",
    "        val pattern:Regex = \"#(\\\\d+) @ (\\\\d+),(\\\\d+): (\\\\d+)x(\\\\d+)\".r\n",
    "        pattern.findFirstMatchIn(t) match {\n",
    "            case Some(x) => {\n",
    "                if (checkClaim(x.group(2).toInt, x.group(3).toInt, x.group(4).toInt, x.group(5).toInt, addresses)) {\n",
    "                    x.group(1).toInt\n",
    "                } else {\n",
    "                    findClaim(ts, addresses)\n",
    "                }\n",
    "            }\n",
    "            case None => println(\"something has gone wrong\"); -1\n",
    "        }\n",
    "    } \n",
    "    case Nil => -1\n",
    "    \n",
    "}"
   ]
  },
  {
   "cell_type": "code",
   "execution_count": 9,
   "metadata": {},
   "outputs": [
    {
     "data": {
      "text/plain": [
       "\u001b[36mres8\u001b[39m: \u001b[32mInt\u001b[39m = \u001b[32m3\u001b[39m"
      ]
     },
     "execution_count": 9,
     "metadata": {},
     "output_type": "execute_result"
    }
   ],
   "source": [
    "findClaim(input, findUnOverlapped(input))"
   ]
  },
  {
   "cell_type": "code",
   "execution_count": null,
   "metadata": {},
   "outputs": [],
   "source": []
  }
 ],
 "metadata": {
  "kernelspec": {
   "display_name": "Scala",
   "language": "scala",
   "name": "scala"
  },
  "language_info": {
   "codemirror_mode": "text/x-scala",
   "file_extension": ".scala",
   "mimetype": "text/x-scala",
   "name": "scala",
   "nbconvert_exporter": "script",
   "version": "2.12.7"
  }
 },
 "nbformat": 4,
 "nbformat_minor": 2
}
