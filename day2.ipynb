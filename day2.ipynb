{
 "cells": [
  {
   "cell_type": "markdown",
   "metadata": {},
   "source": [
    "# Day 2"
   ]
  },
  {
   "cell_type": "code",
   "execution_count": 1,
   "metadata": {},
   "outputs": [
    {
     "data": {
      "text/plain": [
       "\u001b[32mimport \u001b[39m\u001b[36mscala.collection.mutable.Map\u001b[39m"
      ]
     },
     "execution_count": 1,
     "metadata": {},
     "output_type": "execute_result"
    }
   ],
   "source": [
    "import scala.collection.mutable.Map"
   ]
  },
  {
   "cell_type": "code",
   "execution_count": 2,
   "metadata": {},
   "outputs": [
    {
     "data": {
      "text/plain": [
       "\u001b[36minput\u001b[39m: \u001b[32mList\u001b[39m[\u001b[32mString\u001b[39m] = \u001b[33mList\u001b[39m(\n",
       "  \u001b[32m\"abcde\"\u001b[39m,\n",
       "  \u001b[32m\"fghij\"\u001b[39m,\n",
       "  \u001b[32m\"klmno\"\u001b[39m,\n",
       "  \u001b[32m\"pqrst\"\u001b[39m,\n",
       "  \u001b[32m\"fguij\"\u001b[39m,\n",
       "  \u001b[32m\"axcye\"\u001b[39m,\n",
       "  \u001b[32m\"wvxyz\"\u001b[39m\n",
       ")"
      ]
     },
     "execution_count": 2,
     "metadata": {},
     "output_type": "execute_result"
    }
   ],
   "source": [
    "val input = \"\"\"abcde\n",
    "fghij\n",
    "klmno\n",
    "pqrst\n",
    "fguij\n",
    "axcye\n",
    "wvxyz\"\"\".split(\"\\n\").toList"
   ]
  },
  {
   "cell_type": "code",
   "execution_count": 3,
   "metadata": {},
   "outputs": [
    {
     "data": {
      "text/plain": [
       "defined \u001b[32mfunction\u001b[39m \u001b[36mcheckLine\u001b[39m"
      ]
     },
     "execution_count": 3,
     "metadata": {},
     "output_type": "execute_result"
    }
   ],
   "source": [
    "def checkLine(line:List[String], dict:Map[String,Int]=Map()): Map[String,Int] = line match {\n",
    "    case x::xs => {\n",
    "        if (dict.contains(x)) dict(x) += 1 else dict += (x -> 1)\n",
    "        checkLine(xs, dict)\n",
    "    }\n",
    "    case Nil => dict\n",
    "}"
   ]
  },
  {
   "cell_type": "code",
   "execution_count": 4,
   "metadata": {},
   "outputs": [
    {
     "data": {
      "text/plain": [
       "defined \u001b[32mfunction\u001b[39m \u001b[36mchecksum\u001b[39m"
      ]
     },
     "execution_count": 4,
     "metadata": {},
     "output_type": "execute_result"
    }
   ],
   "source": [
    "def checksum(lst:List[String], two_count:Int=0, three_count:Int=0): Int = lst match {\n",
    "    case x::xs => {\n",
    "        val dict = checkLine(x.split(\"\").toList)\n",
    "        var two = two_count\n",
    "        var three = three_count\n",
    "        if (dict.values.toList.contains(2)) two += 1\n",
    "        if (dict.values.toList.contains(3)) three += 1\n",
    "        checksum(xs, two, three)\n",
    "    }\n",
    "    case Nil => two_count * three_count\n",
    "}"
   ]
  },
  {
   "cell_type": "code",
   "execution_count": 5,
   "metadata": {},
   "outputs": [
    {
     "data": {
      "text/plain": [
       "\u001b[36mres4\u001b[39m: \u001b[32mInt\u001b[39m = \u001b[32m0\u001b[39m"
      ]
     },
     "execution_count": 5,
     "metadata": {},
     "output_type": "execute_result"
    }
   ],
   "source": [
    "checksum(input)"
   ]
  },
  {
   "cell_type": "markdown",
   "metadata": {},
   "source": [
    "## Part 2"
   ]
  },
  {
   "cell_type": "code",
   "execution_count": 6,
   "metadata": {},
   "outputs": [
    {
     "data": {
      "text/plain": [
       "defined \u001b[32mfunction\u001b[39m \u001b[36mreturnCommonLetters\u001b[39m"
      ]
     },
     "execution_count": 6,
     "metadata": {},
     "output_type": "execute_result"
    }
   ],
   "source": [
    "def returnCommonLetters(a:String, b:String, common:String=\"\"): String = a match {\n",
    "    case \"\" => common\n",
    "    case s if s.head == b.head => returnCommonLetters(a.tail, b.tail, common + a.head)\n",
    "    case t if t.head != b.head => returnCommonLetters(a.tail, b.tail, common)\n",
    "}"
   ]
  },
  {
   "cell_type": "code",
   "execution_count": 7,
   "metadata": {},
   "outputs": [
    {
     "data": {
      "text/plain": [
       "defined \u001b[32mfunction\u001b[39m \u001b[36mfindBoxes\u001b[39m"
      ]
     },
     "execution_count": 7,
     "metadata": {},
     "output_type": "execute_result"
    }
   ],
   "source": [
    "def findBoxes(boxes:List[String], test_boxes:List[String]=Nil, current_box:String=\"\"): String = test_boxes match {\n",
    "    case Nil => findBoxes(boxes.tail, boxes.tail, boxes.head)\n",
    "    case x::xs => returnCommonLetters(x, current_box) match {\n",
    "        case y if (y.size == x.size - 1) => y\n",
    "        case _ => findBoxes(boxes, xs, current_box)\n",
    "    }\n",
    "}"
   ]
  },
  {
   "cell_type": "code",
   "execution_count": 8,
   "metadata": {},
   "outputs": [
    {
     "data": {
      "text/plain": [
       "\u001b[36mres7\u001b[39m: \u001b[32mString\u001b[39m = \u001b[32m\"fgij\"\u001b[39m"
      ]
     },
     "execution_count": 8,
     "metadata": {},
     "output_type": "execute_result"
    }
   ],
   "source": [
    "findBoxes(input)"
   ]
  }
 ],
 "metadata": {
  "kernelspec": {
   "display_name": "Scala",
   "language": "scala",
   "name": "scala"
  },
  "language_info": {
   "codemirror_mode": "text/x-scala",
   "file_extension": ".scala",
   "mimetype": "text/x-scala",
   "name": "scala",
   "nbconvert_exporter": "script",
   "version": "2.12.7"
  }
 },
 "nbformat": 4,
 "nbformat_minor": 2
}
