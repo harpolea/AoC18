{
 "cells": [
  {
   "cell_type": "markdown",
   "metadata": {},
   "source": [
    "# Day 6"
   ]
  },
  {
   "cell_type": "code",
   "execution_count": 1,
   "metadata": {},
   "outputs": [
    {
     "data": {
      "text/plain": [
       "\u001b[36minput\u001b[39m: \u001b[32mList\u001b[39m[\u001b[32mList\u001b[39m[\u001b[32mInt\u001b[39m]] = \u001b[33mList\u001b[39m(\n",
       "  \u001b[33mList\u001b[39m(\u001b[32m1\u001b[39m, \u001b[32m1\u001b[39m),\n",
       "  \u001b[33mList\u001b[39m(\u001b[32m1\u001b[39m, \u001b[32m6\u001b[39m),\n",
       "  \u001b[33mList\u001b[39m(\u001b[32m8\u001b[39m, \u001b[32m3\u001b[39m),\n",
       "  \u001b[33mList\u001b[39m(\u001b[32m3\u001b[39m, \u001b[32m4\u001b[39m),\n",
       "  \u001b[33mList\u001b[39m(\u001b[32m5\u001b[39m, \u001b[32m5\u001b[39m),\n",
       "  \u001b[33mList\u001b[39m(\u001b[32m8\u001b[39m, \u001b[32m9\u001b[39m)\n",
       ")"
      ]
     },
     "execution_count": 1,
     "metadata": {},
     "output_type": "execute_result"
    }
   ],
   "source": [
    "val input = \"\"\"1, 1\n",
    "1, 6\n",
    "8, 3\n",
    "3, 4\n",
    "5, 5\n",
    "8, 9\"\"\".split('\\n').map( x => x.split(\", \").map(x => x.toInt).toList).toList"
   ]
  },
  {
   "cell_type": "code",
   "execution_count": 2,
   "metadata": {},
   "outputs": [
    {
     "data": {
      "text/plain": [
       "defined \u001b[32mfunction\u001b[39m \u001b[36mfindDistance\u001b[39m"
      ]
     },
     "execution_count": 2,
     "metadata": {},
     "output_type": "execute_result"
    }
   ],
   "source": [
    "def findDistance(a:List[Int], target:List[Int]): Int = {\n",
    "    (a(0) - target(0)).abs + (a(1) - target(1)).abs\n",
    "}"
   ]
  },
  {
   "cell_type": "code",
   "execution_count": 3,
   "metadata": {},
   "outputs": [
    {
     "data": {
      "text/plain": [
       "defined \u001b[32mfunction\u001b[39m \u001b[36mfindNearest\u001b[39m"
      ]
     },
     "execution_count": 3,
     "metadata": {},
     "output_type": "execute_result"
    }
   ],
   "source": [
    "def findNearest(points:List[List[Int]]):Int  = {\n",
    "    val limits = List(points.map(x => x(0)).min, points.map(x => x(0)).max, points.map(x => x(1)).min, points.map(x => x(1)).max) \n",
    "    val xmin = limits(0)\n",
    "    val ymin = limits(2)\n",
    "    val nx = limits(1) - limits(0) + 1\n",
    "    val ny = limits(3) - limits(2) + 1\n",
    "    var grid = Array.ofDim[Int](nx,ny).map(x => x.map(y => -1))\n",
    "    \n",
    "    for {i <- 0 until nx \n",
    "         j <- 0 until ny} {\n",
    "        var smallest_dist = nx*nx\n",
    "        for (p <- 0 until points.size) {\n",
    "            var dist = findDistance(List(i+xmin,j+ymin), points(p))\n",
    "            if (dist < smallest_dist) {\n",
    "                grid(i)(j) = p\n",
    "                smallest_dist = dist\n",
    "            } else if (dist == smallest_dist) {\n",
    "                grid(i)(j) = -1 // equally close to multiple points\n",
    "            }\n",
    "        }\n",
    "    }\n",
    "    \n",
    "    // now we are going to go around the edge of the grid and find all the points whose areas will go to infinity\n",
    "    var infinite_points = Set[Int]()\n",
    "    \n",
    "    for (i <- 0 until nx) {\n",
    "        infinite_points += grid(i)(0)\n",
    "        infinite_points += grid(i)(ny-1)\n",
    "    }\n",
    "    for (j <- 0 until ny) {\n",
    "        infinite_points += grid(0)(j)\n",
    "        infinite_points += grid(nx-1)(j)\n",
    "    }\n",
    "    \n",
    "    // finally iterate over points not in infinite_points and find their areas\n",
    "    \n",
    "    var largest_area = 0\n",
    "    \n",
    "    for {p <- 0 until points.size} {\n",
    "        if (!infinite_points.contains(p)) {\n",
    "            largest_area = largest_area.max(grid.flatten.filter(x => x == p).size)\n",
    "        }\n",
    "    }\n",
    "         \n",
    "     largest_area\n",
    "    \n",
    "    \n",
    "}"
   ]
  },
  {
   "cell_type": "code",
   "execution_count": 4,
   "metadata": {},
   "outputs": [
    {
     "data": {
      "text/plain": [
       "\u001b[36ma\u001b[39m: \u001b[32mInt\u001b[39m = \u001b[32m17\u001b[39m"
      ]
     },
     "execution_count": 4,
     "metadata": {},
     "output_type": "execute_result"
    }
   ],
   "source": [
    "val a = findNearest(input)"
   ]
  },
  {
   "cell_type": "markdown",
   "metadata": {},
   "source": [
    "## Part 2"
   ]
  },
  {
   "cell_type": "code",
   "execution_count": 5,
   "metadata": {},
   "outputs": [
    {
     "data": {
      "text/plain": [
       "\u001b[36mlimits\u001b[39m: \u001b[32mList\u001b[39m[\u001b[32mInt\u001b[39m] = \u001b[33mList\u001b[39m(\u001b[32m1\u001b[39m, \u001b[32m8\u001b[39m, \u001b[32m1\u001b[39m, \u001b[32m9\u001b[39m)\n",
       "\u001b[36mxmin\u001b[39m: \u001b[32mInt\u001b[39m = \u001b[32m1\u001b[39m\n",
       "\u001b[36mymin\u001b[39m: \u001b[32mInt\u001b[39m = \u001b[32m1\u001b[39m\n",
       "\u001b[36mnx\u001b[39m: \u001b[32mInt\u001b[39m = \u001b[32m8\u001b[39m\n",
       "\u001b[36mny\u001b[39m: \u001b[32mInt\u001b[39m = \u001b[32m9\u001b[39m\n",
       "defined \u001b[32mfunction\u001b[39m \u001b[36mfindRegion\u001b[39m"
      ]
     },
     "execution_count": 5,
     "metadata": {},
     "output_type": "execute_result"
    }
   ],
   "source": [
    "val limits = List(input.map(x => x(0)).min, input.map(x => x(0)).max, input.map(x => x(1)).min, input.map(x => x(1)).max) \n",
    "val xmin = limits(0)\n",
    "val ymin = limits(2)\n",
    "val nx = limits(1) - limits(0) + 1\n",
    "val ny = limits(3) - limits(2) + 1\n",
    "\n",
    "def findRegion(counter:Int=0, nPoints:Int=0, target:Int=10000):Int  = counter match {\n",
    "    case x if x == nx*ny => nPoints\n",
    "    case _ => {\n",
    "        var dist = input.map(x => findDistance(List(counter / nx + xmin,counter % nx +ymin), x)).sum\n",
    "        if (dist >= target) findRegion(counter+1, nPoints, target) else findRegion(counter+1, nPoints+1, target)\n",
    "    }\n",
    "    \n",
    "}"
   ]
  },
  {
   "cell_type": "code",
   "execution_count": 6,
   "metadata": {},
   "outputs": [
    {
     "data": {
      "text/plain": [
       "\u001b[36mres5\u001b[39m: \u001b[32mInt\u001b[39m = \u001b[32m72\u001b[39m"
      ]
     },
     "execution_count": 6,
     "metadata": {},
     "output_type": "execute_result"
    }
   ],
   "source": [
    "findRegion()"
   ]
  }
 ],
 "metadata": {
  "kernelspec": {
   "display_name": "Scala",
   "language": "scala",
   "name": "scala"
  },
  "language_info": {
   "codemirror_mode": "text/x-scala",
   "file_extension": ".scala",
   "mimetype": "text/x-scala",
   "name": "scala",
   "nbconvert_exporter": "script",
   "version": "2.12.7"
  }
 },
 "nbformat": 4,
 "nbformat_minor": 2
}
