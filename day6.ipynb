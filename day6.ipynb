{
 "cells": [
  {
   "cell_type": "markdown",
   "metadata": {},
   "source": [
    "# Day 6"
   ]
  },
  {
   "cell_type": "code",
   "execution_count": 11,
   "metadata": {},
   "outputs": [
    {
     "data": {
      "text/plain": [
       "\u001b[36minput\u001b[39m: \u001b[32mList\u001b[39m[\u001b[32mList\u001b[39m[\u001b[32mInt\u001b[39m]] = \u001b[33mList\u001b[39m(\n",
       "  \u001b[33mList\u001b[39m(\u001b[32m1\u001b[39m, \u001b[32m1\u001b[39m),\n",
       "  \u001b[33mList\u001b[39m(\u001b[32m1\u001b[39m, \u001b[32m6\u001b[39m),\n",
       "  \u001b[33mList\u001b[39m(\u001b[32m8\u001b[39m, \u001b[32m3\u001b[39m),\n",
       "  \u001b[33mList\u001b[39m(\u001b[32m3\u001b[39m, \u001b[32m4\u001b[39m),\n",
       "  \u001b[33mList\u001b[39m(\u001b[32m5\u001b[39m, \u001b[32m5\u001b[39m),\n",
       "  \u001b[33mList\u001b[39m(\u001b[32m8\u001b[39m, \u001b[32m9\u001b[39m)\n",
       ")"
      ]
     },
     "execution_count": 11,
     "metadata": {},
     "output_type": "execute_result"
    }
   ],
   "source": [
    "val input = \"\"\"1, 1\n",
    "1, 6\n",
    "8, 3\n",
    "3, 4\n",
    "5, 5\n",
    "8, 9\"\"\".split('\\n').map( x => x.split(\", \").map(x => x.toInt).toList).toList"
   ]
  },
  {
   "cell_type": "code",
   "execution_count": 58,
   "metadata": {},
   "outputs": [
    {
     "data": {
      "text/plain": [
       "\u001b[36minput\u001b[39m: \u001b[32mList\u001b[39m[\u001b[32mList\u001b[39m[\u001b[32mInt\u001b[39m]] = \u001b[33mList\u001b[39m(\n",
       "  \u001b[33mList\u001b[39m(\u001b[32m278\u001b[39m, \u001b[32m314\u001b[39m),\n",
       "  \u001b[33mList\u001b[39m(\u001b[32m282\u001b[39m, \u001b[32m265\u001b[39m),\n",
       "  \u001b[33mList\u001b[39m(\u001b[32m252\u001b[39m, \u001b[32m59\u001b[39m),\n",
       "  \u001b[33mList\u001b[39m(\u001b[32m62\u001b[39m, \u001b[32m70\u001b[39m),\n",
       "  \u001b[33mList\u001b[39m(\u001b[32m192\u001b[39m, \u001b[32m100\u001b[39m),\n",
       "  \u001b[33mList\u001b[39m(\u001b[32m299\u001b[39m, \u001b[32m172\u001b[39m),\n",
       "  \u001b[33mList\u001b[39m(\u001b[32m310\u001b[39m, \u001b[32m347\u001b[39m),\n",
       "  \u001b[33mList\u001b[39m(\u001b[32m283\u001b[39m, \u001b[32m113\u001b[39m),\n",
       "  \u001b[33mList\u001b[39m(\u001b[32m342\u001b[39m, \u001b[32m59\u001b[39m),\n",
       "  \u001b[33mList\u001b[39m(\u001b[32m293\u001b[39m, \u001b[32m260\u001b[39m),\n",
       "  \u001b[33mList\u001b[39m(\u001b[32m288\u001b[39m, \u001b[32m264\u001b[39m),\n",
       "  \u001b[33mList\u001b[39m(\u001b[32m341\u001b[39m, \u001b[32m161\u001b[39m),\n",
       "  \u001b[33mList\u001b[39m(\u001b[32m238\u001b[39m, \u001b[32m80\u001b[39m),\n",
       "  \u001b[33mList\u001b[39m(\u001b[32m212\u001b[39m, \u001b[32m240\u001b[39m),\n",
       "  \u001b[33mList\u001b[39m(\u001b[32m53\u001b[39m, \u001b[32m250\u001b[39m),\n",
       "  \u001b[33mList\u001b[39m(\u001b[32m335\u001b[39m, \u001b[32m219\u001b[39m),\n",
       "  \u001b[33mList\u001b[39m(\u001b[32m217\u001b[39m, \u001b[32m231\u001b[39m),\n",
       "  \u001b[33mList\u001b[39m(\u001b[32m123\u001b[39m, \u001b[32m307\u001b[39m),\n",
       "  \u001b[33mList\u001b[39m(\u001b[32m40\u001b[39m, \u001b[32m261\u001b[39m),\n",
       "  \u001b[33mList\u001b[39m(\u001b[32m340\u001b[39m, \u001b[32m291\u001b[39m),\n",
       "  \u001b[33mList\u001b[39m(\u001b[32m176\u001b[39m, \u001b[32m145\u001b[39m),\n",
       "  \u001b[33mList\u001b[39m(\u001b[32m323\u001b[39m, \u001b[32m323\u001b[39m),\n",
       "  \u001b[33mList\u001b[39m(\u001b[32m164\u001b[39m, \u001b[32m216\u001b[39m),\n",
       "  \u001b[33mList\u001b[39m(\u001b[32m288\u001b[39m, \u001b[32m268\u001b[39m),\n",
       "  \u001b[33mList\u001b[39m(\u001b[32m103\u001b[39m, \u001b[32m234\u001b[39m),\n",
       "  \u001b[33mList\u001b[39m(\u001b[32m84\u001b[39m, \u001b[32m220\u001b[39m),\n",
       "  \u001b[33mList\u001b[39m(\u001b[32m279\u001b[39m, \u001b[32m320\u001b[39m),\n",
       "  \u001b[33mList\u001b[39m(\u001b[32m289\u001b[39m, \u001b[32m237\u001b[39m),\n",
       "  \u001b[33mList\u001b[39m(\u001b[32m43\u001b[39m, \u001b[32m279\u001b[39m),\n",
       "  \u001b[33mList\u001b[39m(\u001b[32m221\u001b[39m, \u001b[32m114\u001b[39m),\n",
       "  \u001b[33mList\u001b[39m(\u001b[32m230\u001b[39m, \u001b[32m131\u001b[39m),\n",
       "  \u001b[33mList\u001b[39m(\u001b[32m53\u001b[39m, \u001b[32m81\u001b[39m),\n",
       "  \u001b[33mList\u001b[39m(\u001b[32m148\u001b[39m, \u001b[32m292\u001b[39m),\n",
       "  \u001b[33mList\u001b[39m(\u001b[32m85\u001b[39m, \u001b[32m137\u001b[39m),\n",
       "  \u001b[33mList\u001b[39m(\u001b[32m73\u001b[39m, \u001b[32m70\u001b[39m),\n",
       "  \u001b[33mList\u001b[39m(\u001b[32m119\u001b[39m, \u001b[32m152\u001b[39m),\n",
       "  \u001b[33mList\u001b[39m(\u001b[32m335\u001b[39m, \u001b[32m177\u001b[39m),\n",
       "  \u001b[33mList\u001b[39m(\u001b[32m353\u001b[39m, \u001b[32m167\u001b[39m),\n",
       "..."
      ]
     },
     "execution_count": 58,
     "metadata": {},
     "output_type": "execute_result"
    }
   ],
   "source": [
    "val input = \"\"\"278, 314\n",
    "282, 265\n",
    "252, 59\n",
    "62, 70\n",
    "192, 100\n",
    "299, 172\n",
    "310, 347\n",
    "283, 113\n",
    "342, 59\n",
    "293, 260\n",
    "288, 264\n",
    "341, 161\n",
    "238, 80\n",
    "212, 240\n",
    "53, 250\n",
    "335, 219\n",
    "217, 231\n",
    "123, 307\n",
    "40, 261\n",
    "340, 291\n",
    "176, 145\n",
    "323, 323\n",
    "164, 216\n",
    "288, 268\n",
    "103, 234\n",
    "84, 220\n",
    "279, 320\n",
    "289, 237\n",
    "43, 279\n",
    "221, 114\n",
    "230, 131\n",
    "53, 81\n",
    "148, 292\n",
    "85, 137\n",
    "73, 70\n",
    "119, 152\n",
    "335, 177\n",
    "353, 167\n",
    "57, 196\n",
    "111, 112\n",
    "256, 228\n",
    "53, 358\n",
    "220, 301\n",
    "345, 45\n",
    "93, 339\n",
    "152, 328\n",
    "252, 189\n",
    "347, 315\n",
    "326, 178\n",
    "213, 173\n",
    "\"\"\".split('\\n').map( x => x.split(\", \").map(x => x.toInt).toList).toList"
   ]
  },
  {
   "cell_type": "code",
   "execution_count": 13,
   "metadata": {},
   "outputs": [
    {
     "data": {
      "text/plain": [
       "\u001b[36mres12\u001b[39m: \u001b[32mInt\u001b[39m = \u001b[32m1\u001b[39m"
      ]
     },
     "execution_count": 13,
     "metadata": {},
     "output_type": "execute_result"
    }
   ],
   "source": [
    "input.map(x => x(0)).min"
   ]
  },
  {
   "cell_type": "code",
   "execution_count": 14,
   "metadata": {},
   "outputs": [
    {
     "data": {
      "text/plain": [
       "\u001b[36mres13\u001b[39m: \u001b[32mList\u001b[39m[\u001b[32mInt\u001b[39m] = \u001b[33mList\u001b[39m(\u001b[32m2\u001b[39m, \u001b[32m6\u001b[39m, \u001b[32m87\u001b[39m)"
      ]
     },
     "execution_count": 14,
     "metadata": {},
     "output_type": "execute_result"
    }
   ],
   "source": [
    "List(2,6,87)"
   ]
  },
  {
   "cell_type": "code",
   "execution_count": 15,
   "metadata": {},
   "outputs": [
    {
     "data": {
      "text/plain": [
       "defined \u001b[32mfunction\u001b[39m \u001b[36mfindGrid\u001b[39m"
      ]
     },
     "execution_count": 15,
     "metadata": {},
     "output_type": "execute_result"
    }
   ],
   "source": [
    "def findGrid(points:List[List[Int]]): List[Int] = {\n",
    "    List(points.map(x => x(0)).min, points.map(x => x(0)).max, points.map(x => x(1)).min, points.map(x => x(1)).max)    \n",
    "}"
   ]
  },
  {
   "cell_type": "code",
   "execution_count": 16,
   "metadata": {},
   "outputs": [
    {
     "data": {
      "text/plain": [
       "\u001b[36mres15\u001b[39m: \u001b[32mList\u001b[39m[\u001b[32mInt\u001b[39m] = \u001b[33mList\u001b[39m(\u001b[32m1\u001b[39m, \u001b[32m8\u001b[39m, \u001b[32m1\u001b[39m, \u001b[32m9\u001b[39m)"
      ]
     },
     "execution_count": 16,
     "metadata": {},
     "output_type": "execute_result"
    }
   ],
   "source": [
    "findGrid(input)"
   ]
  },
  {
   "cell_type": "code",
   "execution_count": 18,
   "metadata": {},
   "outputs": [
    {
     "data": {
      "text/plain": [
       "defined \u001b[32mfunction\u001b[39m \u001b[36mfindDistance\u001b[39m"
      ]
     },
     "execution_count": 18,
     "metadata": {},
     "output_type": "execute_result"
    }
   ],
   "source": [
    "def findDistance(a:List[Int], target:List[Int]): Int = {\n",
    "    (a(0) - target(0)).abs + (a(1) - target(1)).abs\n",
    "}"
   ]
  },
  {
   "cell_type": "code",
   "execution_count": 60,
   "metadata": {},
   "outputs": [
    {
     "data": {
      "text/plain": [
       "defined \u001b[32mfunction\u001b[39m \u001b[36mfindNearest\u001b[39m"
      ]
     },
     "execution_count": 60,
     "metadata": {},
     "output_type": "execute_result"
    }
   ],
   "source": [
    "def findNearest(points:List[List[Int]]):Int  = {\n",
    "    val limits = List(points.map(x => x(0)).min, points.map(x => x(0)).max, points.map(x => x(1)).min, points.map(x => x(1)).max) \n",
    "    val xmin = limits(0)\n",
    "    val ymin = limits(2)\n",
    "    val nx = limits(1) - limits(0) + 1\n",
    "    val ny = limits(3) - limits(2) + 1\n",
    "    var grid = Array.ofDim[Int](nx,ny).map(x => x.map(y => -1))\n",
    "    \n",
    "    for {i <- 0 until nx \n",
    "         j <- 0 until ny} {\n",
    "        var smallest_dist = nx*nx\n",
    "        for (p <- 0 until points.size) {\n",
    "            var dist = findDistance(List(i+xmin,j+ymin), points(p))\n",
    "            if (dist < smallest_dist) {\n",
    "                grid(i)(j) = p\n",
    "                smallest_dist = dist\n",
    "            } else if (dist == smallest_dist) {\n",
    "                grid(i)(j) = -1 // equally close to multiple points\n",
    "            }\n",
    "        }\n",
    "    }\n",
    "    \n",
    "    // now we are going to go around the edge of the grid and find all the points whose areas will go to infinity\n",
    "    var infinite_points = Set[Int]()\n",
    "    \n",
    "    for (i <- 0 until nx) {\n",
    "        infinite_points += grid(i)(0)\n",
    "        infinite_points += grid(i)(ny-1)\n",
    "    }\n",
    "    for (j <- 0 until ny) {\n",
    "        infinite_points += grid(0)(j)\n",
    "        infinite_points += grid(nx-1)(j)\n",
    "    }\n",
    "    \n",
    "    // finally iterate over points not in infinite_points and find their areas\n",
    "    \n",
    "    var largest_area = 0\n",
    "    \n",
    "    for {p <- 0 until points.size} {\n",
    "        if (!infinite_points.contains(p)) {\n",
    "            largest_area = largest_area.max(grid.flatten.filter(x => x == p).size)\n",
    "        }\n",
    "    }\n",
    "         \n",
    "     largest_area\n",
    "    \n",
    "    \n",
    "}"
   ]
  },
  {
   "cell_type": "code",
   "execution_count": 61,
   "metadata": {},
   "outputs": [
    {
     "data": {
      "text/plain": [
       "\u001b[36ma\u001b[39m: \u001b[32mInt\u001b[39m = \u001b[32m4060\u001b[39m"
      ]
     },
     "execution_count": 61,
     "metadata": {},
     "output_type": "execute_result"
    }
   ],
   "source": [
    "val a = findNearest(input)"
   ]
  },
  {
   "cell_type": "code",
   "execution_count": 41,
   "metadata": {},
   "outputs": [
    {
     "data": {
      "text/plain": [
       "\u001b[36mres40\u001b[39m: \u001b[32mInt\u001b[39m = \u001b[32m17\u001b[39m"
      ]
     },
     "execution_count": 41,
     "metadata": {},
     "output_type": "execute_result"
    }
   ],
   "source": [
    "a.flatten.filter(x => x==4).size"
   ]
  },
  {
   "cell_type": "code",
   "execution_count": 34,
   "metadata": {},
   "outputs": [],
   "source": [
    "infinite_points += 1"
   ]
  },
  {
   "cell_type": "code",
   "execution_count": 47,
   "metadata": {},
   "outputs": [
    {
     "data": {
      "text/plain": [
       "\u001b[36mres46\u001b[39m: \u001b[32mInt\u001b[39m = \u001b[32m7\u001b[39m"
      ]
     },
     "execution_count": 47,
     "metadata": {},
     "output_type": "execute_result"
    }
   ],
   "source": [
    "7.max(5)"
   ]
  },
  {
   "cell_type": "markdown",
   "metadata": {},
   "source": [
    "## Part 2"
   ]
  },
  {
   "cell_type": "code",
   "execution_count": null,
   "metadata": {},
   "outputs": [],
   "source": []
  }
 ],
 "metadata": {
  "kernelspec": {
   "display_name": "Scala",
   "language": "scala",
   "name": "scala"
  },
  "language_info": {
   "codemirror_mode": "text/x-scala",
   "file_extension": ".scala",
   "mimetype": "text/x-scala",
   "name": "scala",
   "nbconvert_exporter": "script",
   "version": "2.12.7"
  }
 },
 "nbformat": 4,
 "nbformat_minor": 2
}
